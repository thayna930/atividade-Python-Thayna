{
  "nbformat": 4,
  "nbformat_minor": 0,
  "metadata": {
    "colab": {
      "provenance": [],
      "authorship_tag": "ABX9TyOdVRZmzIJkSXGNOLPwYev2",
      "include_colab_link": true
    },
    "kernelspec": {
      "name": "python3",
      "display_name": "Python 3"
    },
    "language_info": {
      "name": "python"
    }
  },
  "cells": [
    {
      "cell_type": "markdown",
      "metadata": {
        "id": "view-in-github",
        "colab_type": "text"
      },
      "source": [
        "<a href=\"https://colab.research.google.com/github/thayna930/atividade-Python-Thayna/blob/main/questaos_python.ipynb\" target=\"_parent\"><img src=\"https://colab.research.google.com/assets/colab-badge.svg\" alt=\"Open In Colab\"/></a>"
      ]
    },
    {
      "cell_type": "code",
      "execution_count": null,
      "metadata": {
        "colab": {
          "base_uri": "https://localhost:8080/"
        },
        "id": "-Sbhk65c3gpA",
        "outputId": "10a6fd72-8c5d-4091-d7a3-a8ab682c4ead"
      },
      "outputs": [
        {
          "output_type": "stream",
          "name": "stdout",
          "text": [
            "Informe seu peso (em kg): 50\n",
            "Informe sua altura (em metros): 1.63\n",
            "Informe o seu sexo (M para masculino e F para feminino): f\n",
            "O seu peso ideal é 56.52kg\n",
            "Você está 6.52kg abaixo do peso\n"
          ]
        }
      ],
      "source": [
        "#questao1\n",
        "\n",
        "peso = float(input('Informe seu peso (em kg): '))\n",
        "alt = float(input('Informe sua altura (em metros): '))\n",
        "sexo = input('Informe o seu sexo (M para masculino e F para feminino): ')\n",
        "\n",
        "if sexo == 'M' or sexo == 'm':\n",
        "    pesoIdeal = (72.7 * alt) - 58\n",
        "    print('Seu peso ideal é {:.2f}kg' .format(pesoIdeal))\n",
        "\n",
        "    if pesoIdeal > peso:\n",
        "        print('Você está {:.2f}kg abaixo do peso' .format(pesoIdeal - peso))\n",
        "    elif pesoIdeal < peso:\n",
        "        print('Você está {:.2f}kg acima do peso' .format(peso - pesoIdeal))\n",
        "    else:\n",
        "        print('Você está com o peso ideal')\n",
        "\n",
        "elif sexo == 'F' or sexo == 'f':\n",
        "    pesoIdeal = (62.1 * alt) - 44.7\n",
        "    print('O seu peso ideal é {:.2f}kg' .format(pesoIdeal))\n",
        "\n",
        "    if pesoIdeal > peso:\n",
        "        print('Você está {:.2f}kg abaixo do peso' .format(pesoIdeal - peso))\n",
        "    elif pesoIdeal < peso:\n",
        "        print('Você está {:.2f}kg acima do peso' .format(peso - pesoIdeal))\n",
        "    else:\n",
        "        print('Você está com o peso ideal')"
      ]
    },
    {
      "cell_type": "code",
      "source": [
        "#questao2\n",
        "\n",
        "tamArquivo = float(input('Tamanho do arquivo (em MegaBytes): '))\n",
        "velocidade = int(input('Velocidade da internet (em MegaBits por segundo): '))\n",
        "\n",
        "tamArqBits = tamArquivo * 8\n",
        "\n",
        "tempoDownload = (tamArqBits / velocidade)\n",
        "\n",
        "print('Tempo de download será de {:.0f} segundos' .format(tempoDownload))"
      ],
      "metadata": {
        "colab": {
          "base_uri": "https://localhost:8080/"
        },
        "id": "7_-0BFHF4cGh",
        "outputId": "5b0e73f0-2528-4da3-8b5d-76ece0cd2c48"
      },
      "execution_count": null,
      "outputs": [
        {
          "output_type": "stream",
          "name": "stdout",
          "text": [
            "Tamanho do arquivo (em MegaBytes): 3\n",
            "Velocidade da internet (em MegaBits por segundo): 4\n",
            "Tempo de download será de 6 segundos\n"
          ]
        }
      ]
    },
    {
      "cell_type": "code",
      "source": [
        "#questao3\n",
        "\n",
        "n = []\n",
        "\n",
        "n.append(int(input('Informe o primeiro número: ')))\n",
        "n.append(int(input('Informe o segundo número: ')))\n",
        "n.append(int(input('Informe o segundo número: ')))\n",
        "\n",
        "n.sort(reverse=True)\n",
        "\n",
        "print(n)"
      ],
      "metadata": {
        "colab": {
          "base_uri": "https://localhost:8080/"
        },
        "id": "MYnPTtYu5Krt",
        "outputId": "ef2bbfd8-c23d-47b0-9804-f819df04a4c9"
      },
      "execution_count": null,
      "outputs": [
        {
          "output_type": "stream",
          "name": "stdout",
          "text": [
            "Informe o primeiro número: 3\n",
            "Informe o segundo número: 4\n",
            "Informe o segundo número: 5\n",
            "[5, 4, 3]\n"
          ]
        }
      ]
    },
    {
      "cell_type": "code",
      "source": [
        "#questao4\n",
        "\n",
        "print('Responda M para Matutino, V para Vespertino ou N para Noturno \\n')\n",
        "turno = input('Qual turno você estuda? ')\n",
        "\n",
        "if turno == 'M':\n",
        "    print('Bom dia!!!')\n",
        "elif turno == 'V':\n",
        "    print('Boa tarde!!!')\n",
        "elif turno == 'N':\n",
        "    print('Boa noite!!!')\n",
        "else:\n",
        "    print('Valor inválido!')"
      ],
      "metadata": {
        "colab": {
          "base_uri": "https://localhost:8080/"
        },
        "id": "10rLHe9bBWMC",
        "outputId": "9c76ffd7-2393-4772-8f60-35d12adfd4e1"
      },
      "execution_count": null,
      "outputs": [
        {
          "output_type": "stream",
          "name": "stdout",
          "text": [
            "Responda M para Matutino, V para Vespertino ou N para Noturno \n",
            "\n",
            "Qual turno você estuda? M\n",
            "Bom dia!!!\n"
          ]
        }
      ]
    },
    {
      "cell_type": "code",
      "source": [
        "#questao5\n",
        "\n",
        "n = int(input('Digite um número: '))\n",
        "\n",
        "if n % 2 == 0:\n",
        "    print('Este número é par')\n",
        "elif n % 2 == 1:\n",
        "    print('Este número é impar')"
      ],
      "metadata": {
        "colab": {
          "base_uri": "https://localhost:8080/"
        },
        "id": "YbEf85QFBkw2",
        "outputId": "4ed1e34b-4758-44b4-a421-a45ea9486347"
      },
      "execution_count": null,
      "outputs": [
        {
          "output_type": "stream",
          "name": "stdout",
          "text": [
            "Digite um número: 4\n",
            "Este número é par\n"
          ]
        }
      ]
    },
    {
      "cell_type": "code",
      "source": [
        "#questao6\n",
        "\n",
        "n = []\n",
        "\n",
        "for i in range(0, 5):\n",
        "    n.append(int(input(f'Digite o número {i+1}: ')))\n",
        "\n",
        "n.sort(reverse=True)\n",
        "\n",
        "print(f'O maior número é {n[0]}')"
      ],
      "metadata": {
        "colab": {
          "base_uri": "https://localhost:8080/"
        },
        "id": "C0pY6PU6Br8J",
        "outputId": "98570c47-3eb6-4172-8b12-fab9a7059f90"
      },
      "execution_count": null,
      "outputs": [
        {
          "output_type": "stream",
          "name": "stdout",
          "text": [
            "Digite o número 1: 1\n",
            "Digite o número 2: 4\n",
            "Digite o número 3: 5\n",
            "Digite o número 4: 6\n",
            "Digite o número 5: 7\n",
            "O maior número é 7\n"
          ]
        }
      ]
    },
    {
      "cell_type": "code",
      "source": [
        "#questao7\n",
        "\n",
        "n = []\n",
        "soma = 0\n",
        "\n",
        "for i in range(0, 5):\n",
        "    n.append(int(input(f'Digite o número {i+1}: ')))\n",
        "\n",
        "    soma += n[i]\n",
        "\n",
        "print(f'\\nA soma dos valores é {soma}')\n",
        "print(f'A média dos valores é {soma / len(n)}')"
      ],
      "metadata": {
        "colab": {
          "base_uri": "https://localhost:8080/"
        },
        "id": "W7Znzb7MB2q8",
        "outputId": "b1b362ef-a43f-420a-d98c-572420f3843f"
      },
      "execution_count": null,
      "outputs": [
        {
          "output_type": "stream",
          "name": "stdout",
          "text": [
            "Digite o número 1: 5\n",
            "Digite o número 2: 4\n",
            "Digite o número 3: 6\n",
            "Digite o número 4: 7\n",
            "Digite o número 5: 8\n",
            "\n",
            "A soma dos valores é 30\n",
            "A média dos valores é 6.0\n"
          ]
        }
      ]
    },
    {
      "cell_type": "code",
      "source": [
        "#questao8\n",
        "\n",
        "for i in range(0, 50):\n",
        "    if i % 2 != 0:\n",
        "        print(i)"
      ],
      "metadata": {
        "colab": {
          "base_uri": "https://localhost:8080/"
        },
        "id": "pisTSdk4CGIJ",
        "outputId": "2160afd1-fcf7-4e7f-cc2f-a44259de7729"
      },
      "execution_count": null,
      "outputs": [
        {
          "output_type": "stream",
          "name": "stdout",
          "text": [
            "1\n",
            "3\n",
            "5\n",
            "7\n",
            "9\n",
            "11\n",
            "13\n",
            "15\n",
            "17\n",
            "19\n",
            "21\n",
            "23\n",
            "25\n",
            "27\n",
            "29\n",
            "31\n",
            "33\n",
            "35\n",
            "37\n",
            "39\n",
            "41\n",
            "43\n",
            "45\n",
            "47\n",
            "49\n"
          ]
        }
      ]
    },
    {
      "cell_type": "code",
      "source": [
        "#questao9\n",
        "\n",
        "n = []\n",
        "\n",
        "for i in range(0, 10):\n",
        "    n.append(float(input(f'Digite o número {i+1}: ')))\n",
        "\n",
        "n.sort(reverse=True)\n",
        "\n",
        "print(n)"
      ],
      "metadata": {
        "colab": {
          "base_uri": "https://localhost:8080/"
        },
        "id": "ZYEgfGm1CQWp",
        "outputId": "31a09337-0cfc-4edc-de18-42cf4a4b3bab"
      },
      "execution_count": 13,
      "outputs": [
        {
          "output_type": "stream",
          "name": "stdout",
          "text": [
            "Digite o número 1: 4\n",
            "Digite o número 2: 5\n",
            "Digite o número 3: 6\n",
            "Digite o número 4: 7\n",
            "Digite o número 5: 8\n",
            "Digite o número 6: 9\n",
            "Digite o número 7: 6\n",
            "Digite o número 8: 7\n",
            "Digite o número 9: 8\n",
            "Digite o número 10: 67\n",
            "[67.0, 9.0, 8.0, 8.0, 7.0, 7.0, 6.0, 6.0, 5.0, 4.0]\n"
          ]
        }
      ]
    },
    {
      "cell_type": "code",
      "source": [
        "#questao10\n",
        "\n",
        "n = []\n",
        "c = 0\n",
        "i = 0\n",
        "\n",
        "print('\\nInformee suas notas\\n')\n",
        "\n",
        "while c != -1:\n",
        "    n.append(int(input(f'Informe a nota {i+1}: ')))\n",
        "\n",
        "    if n[i] == -1:\n",
        "        c = -1\n",
        "        n.pop(i)\n",
        "    elif n[i] < 0 or n[i] > 100:\n",
        "        print('Valor inválido, por favor digite um número entre 0 e 100')\n",
        "        n.pop(i)\n",
        "\n",
        "    i += 1\n",
        "\n",
        "print(f'A quantidade de notas é {len(n)}')\n",
        "print(f'Os valores são {n}')\n",
        "\n",
        "n.reverse()\n",
        "\n",
        "print(f'Os valores reordenados são:')\n",
        "\n",
        "for i in range(0, len(n)):\n",
        "    print(n[i])\n",
        "\n",
        "print('\\nPrograma encerrado')"
      ],
      "metadata": {
        "id": "yZD9jL5oEDt9"
      },
      "execution_count": null,
      "outputs": []
    }
  ]
}